{
 "cells": [
  {
   "cell_type": "code",
   "execution_count": 1,
   "metadata": {},
   "outputs": [],
   "source": [
    "import serial"
   ]
  },
  {
   "cell_type": "markdown",
   "metadata": {},
   "source": [
    "### openSerial"
   ]
  },
  {
   "cell_type": "code",
   "execution_count": 2,
   "metadata": {},
   "outputs": [],
   "source": [
    "def openSerial(port, baudrate=9600, bytesize=serial.EIGHTBITS, parity=serial.PARITY_NONE, stopbits=serial.STOPBITS_ONE, timeout=None, xonxoff=False, rtscts=False, dsrdtr=False):\n",
    "    ser = serial.Serial()\n",
    "\n",
    "    ser.port = port\n",
    "    ser.baudrate = baudrate\n",
    "    ser.bytesize = bytesize\n",
    "    ser.parity = parity\n",
    "    ser.stopbits = stopbits\n",
    "    ser.timeout = timeout\n",
    "    ser.xonxoff = xonxoff\n",
    "    ser.rtscts = rtscts\n",
    "    ser.dsrdtr = dsrdtr\n",
    "\n",
    "    ser.open()\n",
    "    return ser"
   ]
  },
  {
   "cell_type": "code",
   "execution_count": 3,
   "metadata": {},
   "outputs": [],
   "source": [
    "def writePort(ser, data):\n",
    "    ser.write(data)"
   ]
  },
  {
   "cell_type": "code",
   "execution_count": 4,
   "metadata": {},
   "outputs": [],
   "source": [
    "def writePortUnicode(ser, data):\n",
    "    writePort(ser, data.encode())"
   ]
  },
  {
   "cell_type": "code",
   "execution_count": 5,
   "metadata": {},
   "outputs": [],
   "source": [
    "def read(ser, size=1, timeout=None):\n",
    "    ser.timeout = timeout\n",
    "    readed = ser.read(size)\n",
    "    return readed"
   ]
  },
  {
   "cell_type": "code",
   "execution_count": 6,
   "metadata": {},
   "outputs": [],
   "source": [
    "def readUntilExitCode(ser, exitcode=b'\\x03'):\n",
    "    readed = b''\n",
    "    while True:\n",
    "        data = ser.read()\n",
    "        print(data)\n",
    "        readed += data\n",
    "        if exitcode in data:\n",
    "            return readed[:1]"
   ]
  },
  {
   "cell_type": "code",
   "execution_count": 7,
   "metadata": {},
   "outputs": [],
   "source": [
    "def readEOF(ser):\n",
    "    readed = ser.readline()\n",
    "    return readed[:-1]"
   ]
  },
  {
   "cell_type": "code",
   "execution_count": 8,
   "metadata": {},
   "outputs": [
    {
     "ename": "TypeError",
     "evalue": "unicode strings are not supported, please encode to bytes: 'hello world\\r\\n'",
     "output_type": "error",
     "traceback": [
      "\u001b[1;31m---------------------------------------------------------------------------\u001b[0m",
      "\u001b[1;31mTypeError\u001b[0m                                 Traceback (most recent call last)",
      "Cell \u001b[1;32mIn[8], line 5\u001b[0m\n\u001b[0;32m      2\u001b[0m ser \u001b[38;5;241m=\u001b[39m openSerial(\u001b[38;5;124m'\u001b[39m\u001b[38;5;124mcom5\u001b[39m\u001b[38;5;124m'\u001b[39m)\n\u001b[0;32m      4\u001b[0m string \u001b[38;5;241m=\u001b[39m \u001b[38;5;124m'\u001b[39m\u001b[38;5;124mhello world\u001b[39m\u001b[38;5;130;01m\\r\u001b[39;00m\u001b[38;5;130;01m\\n\u001b[39;00m\u001b[38;5;124m'\u001b[39m\n\u001b[1;32m----> 5\u001b[0m \u001b[43mwritePort\u001b[49m\u001b[43m(\u001b[49m\u001b[43mser\u001b[49m\u001b[43m,\u001b[49m\u001b[43m \u001b[49m\u001b[43mstring\u001b[49m\u001b[43m)\u001b[49m\n\u001b[0;32m      6\u001b[0m writePort(ser, string\u001b[38;5;241m.\u001b[39mencode())\n\u001b[0;32m      7\u001b[0m writePortUnicode(ser, string)\n",
      "Cell \u001b[1;32mIn[3], line 2\u001b[0m, in \u001b[0;36mwritePort\u001b[1;34m(ser, data)\u001b[0m\n\u001b[0;32m      1\u001b[0m \u001b[38;5;28;01mdef\u001b[39;00m \u001b[38;5;21mwritePort\u001b[39m(ser, data):\n\u001b[1;32m----> 2\u001b[0m     \u001b[43mser\u001b[49m\u001b[38;5;241;43m.\u001b[39;49m\u001b[43mwrite\u001b[49m\u001b[43m(\u001b[49m\u001b[43mdata\u001b[49m\u001b[43m)\u001b[49m\n",
      "File \u001b[1;32mc:\\Python\\311\\Lib\\site-packages\\serial\\serialwin32.py:310\u001b[0m, in \u001b[0;36mSerial.write\u001b[1;34m(self, data)\u001b[0m\n\u001b[0;32m    306\u001b[0m     \u001b[39mraise\u001b[39;00m PortNotOpenError()\n\u001b[0;32m    307\u001b[0m \u001b[39m#~ if not isinstance(data, (bytes, bytearray)):\u001b[39;00m\n\u001b[0;32m    308\u001b[0m     \u001b[39m#~ raise TypeError('expected %s or bytearray, got %s' % (bytes, type(data)))\u001b[39;00m\n\u001b[0;32m    309\u001b[0m \u001b[39m# convert data (needed in case of memoryview instance: Py 3.1 io lib), ctypes doesn't like memoryview\u001b[39;00m\n\u001b[1;32m--> 310\u001b[0m data \u001b[39m=\u001b[39m to_bytes(data)\n\u001b[0;32m    311\u001b[0m \u001b[39mif\u001b[39;00m data:\n\u001b[0;32m    312\u001b[0m     \u001b[39m#~ win32event.ResetEvent(self._overlapped_write.hEvent)\u001b[39;00m\n\u001b[0;32m    313\u001b[0m     n \u001b[39m=\u001b[39m win32\u001b[39m.\u001b[39mDWORD()\n",
      "File \u001b[1;32mc:\\Python\\311\\Lib\\site-packages\\serial\\serialutil.py:65\u001b[0m, in \u001b[0;36mto_bytes\u001b[1;34m(seq)\u001b[0m\n\u001b[0;32m     63\u001b[0m     \u001b[39mreturn\u001b[39;00m seq\u001b[39m.\u001b[39mtobytes()\n\u001b[0;32m     64\u001b[0m \u001b[39melif\u001b[39;00m \u001b[39misinstance\u001b[39m(seq, unicode):\n\u001b[1;32m---> 65\u001b[0m     \u001b[39mraise\u001b[39;00m \u001b[39mTypeError\u001b[39;00m(\u001b[39m'\u001b[39m\u001b[39municode strings are not supported, please encode to bytes: \u001b[39m\u001b[39m{!r}\u001b[39;00m\u001b[39m'\u001b[39m\u001b[39m.\u001b[39mformat(seq))\n\u001b[0;32m     66\u001b[0m \u001b[39melse\u001b[39;00m:\n\u001b[0;32m     67\u001b[0m     \u001b[39m# handle list of integers and bytes (one or more items) for Python 2 and 3\u001b[39;00m\n\u001b[0;32m     68\u001b[0m     \u001b[39mreturn\u001b[39;00m \u001b[39mbytes\u001b[39m(\u001b[39mbytearray\u001b[39m(seq))\n",
      "\u001b[1;31mTypeError\u001b[0m: unicode strings are not supported, please encode to bytes: 'hello world\\r\\n'"
     ]
    }
   ],
   "source": [
    "if __name__ == '__main__':\n",
    "    ser = openSerial('com5')\n",
    "\n",
    "    string = 'hello world\\r\\n'\n",
    "    writePort(ser, string)\n",
    "    writePort(ser, string.encode())\n",
    "    writePortUnicode(ser, string)\n",
    "\n",
    "    string = b'Hello World\\r\\n'\n",
    "    writePort(ser, string)\n",
    "\n",
    "    string = '한글 전송 테스트\\r\\n'\n",
    "    writePortUnicode(ser, string)\n",
    "\n",
    "    readed = read(ser)\n",
    "    print(readed)\n",
    "    print(read(ser, 10))\n",
    "    print(read(ser, size=3, timeout=5))\n",
    "    print(readEOF(ser))\n",
    "    print(readUntilExitCode(ser))"
   ]
  }
 ],
 "metadata": {
  "kernelspec": {
   "display_name": "Python 3.11.1 64-bit",
   "language": "python",
   "name": "python3"
  },
  "language_info": {
   "codemirror_mode": {
    "name": "ipython",
    "version": 3
   },
   "file_extension": ".py",
   "mimetype": "text/x-python",
   "name": "python",
   "nbconvert_exporter": "python",
   "pygments_lexer": "ipython3",
   "version": "3.11.1"
  },
  "orig_nbformat": 4,
  "vscode": {
   "interpreter": {
    "hash": "81eef19b52451e11e3f8bf6bc518dd5f147d5a651198624c9c211c83ec7c4923"
   }
  }
 },
 "nbformat": 4,
 "nbformat_minor": 2
}
